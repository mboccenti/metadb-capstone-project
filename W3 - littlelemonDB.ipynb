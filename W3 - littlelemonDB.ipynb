{
 "cells": [
  {
   "cell_type": "code",
   "execution_count": 1,
   "metadata": {
    "ExecuteTime": {
     "start_time": "2023-04-03T23:50:28.890513Z",
     "end_time": "2023-04-03T23:50:33.142795Z"
    }
   },
   "outputs": [
    {
     "name": "stdout",
     "output_type": "stream",
     "text": [
      "Requirement already satisfied: mysql-connector-python in c:\\python311\\lib\\site-packages (8.0.32)\n",
      "Requirement already satisfied: protobuf<=3.20.3,>=3.11.0 in c:\\python311\\lib\\site-packages (from mysql-connector-python) (3.20.3)\n",
      "Note: you may need to restart the kernel to use updated packages.\n"
     ]
    }
   ],
   "source": [
    "%pip install mysql-connector-python"
   ]
  },
  {
   "cell_type": "code",
   "execution_count": 2,
   "metadata": {
    "ExecuteTime": {
     "start_time": "2023-04-03T23:50:53.375832Z",
     "end_time": "2023-04-03T23:50:53.933357Z"
    }
   },
   "outputs": [],
   "source": [
    "import mysql.connector as connector\n",
    "connection = connector.connect(user = \"coursera\", password = \"coursera\")"
   ]
  },
  {
   "cell_type": "code",
   "execution_count": 3,
   "metadata": {
    "ExecuteTime": {
     "start_time": "2023-04-03T23:50:54.707767Z",
     "end_time": "2023-04-03T23:50:54.742857Z"
    }
   },
   "outputs": [],
   "source": [
    "cursor = connection.cursor()"
   ]
  },
  {
   "cell_type": "code",
   "execution_count": 4,
   "metadata": {
    "ExecuteTime": {
     "start_time": "2023-04-03T23:50:56.162335Z",
     "end_time": "2023-04-03T23:50:56.244934Z"
    }
   },
   "outputs": [],
   "source": [
    "set_database = \"\"\"use LittleLemonDB\"\"\"\n",
    "cursor.execute(set_database)"
   ]
  },
  {
   "cell_type": "code",
   "execution_count": 5,
   "metadata": {
    "ExecuteTime": {
     "start_time": "2023-04-03T23:50:58.086411Z",
     "end_time": "2023-04-03T23:50:58.199240Z"
    }
   },
   "outputs": [],
   "source": [
    "show_tables_query = \"SHOW tables\" \n",
    "results=cursor.execute(show_tables_query)"
   ]
  },
  {
   "cell_type": "code",
   "execution_count": 6,
   "metadata": {
    "ExecuteTime": {
     "start_time": "2023-04-03T23:51:00.241581Z",
     "end_time": "2023-04-03T23:51:00.323070Z"
    }
   },
   "outputs": [
    {
     "name": "stdout",
     "output_type": "stream",
     "text": [
      "('booking',)\n",
      "('bookings',)\n",
      "('customer',)\n",
      "('customers',)\n",
      "('deliverystatus',)\n",
      "('menu',)\n",
      "('order_delivery_status',)\n",
      "('orders',)\n",
      "('staff',)\n"
     ]
    }
   ],
   "source": [
    "tables = cursor.fetchall()\n",
    "for t in tables:\n",
    "    print(t)"
   ]
  },
  {
   "cell_type": "code",
   "execution_count": 7,
   "metadata": {
    "ExecuteTime": {
     "start_time": "2023-04-03T23:51:02.005793Z",
     "end_time": "2023-04-03T23:51:02.049933Z"
    }
   },
   "outputs": [],
   "source": [
    "join_query = \"\"\"\n",
    "    select concat('c.first_name', 'c.last_name') as FullName, b.BookingID, \n",
    "    c.phone,c.city,c.country\n",
    "    from Customers c join Bookings b on c.BookingID = b.BookingID\n",
    "    join Orders o on b.OrderID = o.OrderID\n",
    "    where o.totalCost > 60 order by o.totalCost desc; \n",
    "\"\"\"\n",
    "cursor.execute(join_query)"
   ]
  },
  {
   "cell_type": "code",
   "execution_count": 8,
   "metadata": {
    "ExecuteTime": {
     "start_time": "2023-04-03T23:51:03.235006Z",
     "end_time": "2023-04-03T23:51:03.327442Z"
    }
   },
   "outputs": [
    {
     "name": "stdout",
     "output_type": "stream",
     "text": [
      "There are 0 customer with more than 60$ purchase amount\n",
      "Top customers: ...\n"
     ]
    }
   ],
   "source": [
    "customers = cursor.fetchall()\n",
    "print(f'There are {len(customers)} customer with more than 60$ purchase amount')\n",
    "print(\"Top customers: ...\")\n",
    "for customer in customers[:10]:\n",
    "    print('=' * 50)\n",
    "    print(f'Full Name: \\t {customer[0]}')\n",
    "    print(f'Email: \\t\\t {customer[1]}')\n",
    "    print(f'Phone Number: \\t {customer[2]}')\n",
    "    print(f'Address: \\t {customer[3]}')\n",
    "    print(f'Country: \\t {customer[4]}')\n",
    "    print(f'City: \\t\\t {customer[5]}')\n",
    "    print(f'Has spent: \\t {float(customer[6])}')"
   ]
  },
  {
   "cell_type": "code",
   "execution_count": null,
   "outputs": [],
   "source": [],
   "metadata": {
    "collapsed": false
   }
  }
 ],
 "metadata": {
  "kernelspec": {
   "display_name": "Python 3",
   "language": "python",
   "name": "python3"
  },
  "language_info": {
   "codemirror_mode": {
    "name": "ipython",
    "version": 3
   },
   "file_extension": ".py",
   "mimetype": "text/x-python",
   "name": "python",
   "nbconvert_exporter": "python",
   "pygments_lexer": "ipython3",
   "version": "3.11.2"
  },
  "orig_nbformat": 4
 },
 "nbformat": 4,
 "nbformat_minor": 2
}
